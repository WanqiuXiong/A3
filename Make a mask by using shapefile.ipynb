{
 "cells": [
  {
   "cell_type": "markdown",
   "id": "4b78daf2",
   "metadata": {},
   "source": [
    "I want to use the rasterio library to mask the raster file using shapefile"
   ]
  },
  {
   "cell_type": "code",
   "execution_count": 1,
   "id": "b024016d",
   "metadata": {},
   "outputs": [],
   "source": [
    "import rasterio\n",
    "from rasterio.features import geometry_mask\n",
    "import geopandas as gpd\n",
    "from rasterio.mask import mask"
   ]
  },
  {
   "cell_type": "markdown",
   "id": "9b507315",
   "metadata": {},
   "source": [
    "Create a python environment, download the rasterio and geopandas packages, introduce the packages\n",
    "link:https://rasterio.readthedocs.io/en/stable/topics/masking-by-shapefile.html"
   ]
  },
  {
   "cell_type": "code",
   "execution_count": 2,
   "id": "54321ad1",
   "metadata": {},
   "outputs": [],
   "source": [
    "with rasterio.open(r'C:\\Users\\31619\\Desktop\\CLCD_v01_2006_albert_province\\CLCD_v01_2018_albert_shandong.tif') as src:\n",
    "    raster_data = src.read(1)"
   ]
  },
  {
   "cell_type": "markdown",
   "id": "f68e2a71",
   "metadata": {},
   "source": [
    "Open the raster file and read the raster data. Here the path is represented as a raw string because it contains special characters such as spaces."
   ]
  },
  {
   "cell_type": "code",
   "execution_count": 3,
   "id": "c7d94892",
   "metadata": {},
   "outputs": [],
   "source": [
    "print(raster_data)"
   ]
  },
  {
   "cell_type": "markdown",
   "id": "99dc91ae",
   "metadata": {},
   "source": [
    "Verify that it contains raster data"
   ]
  },
  {
   "cell_type": "code",
   "execution_count": 4,
   "id": "9e77ba03",
   "metadata": {},
   "outputs": [],
   "source": [
    "meta = src.meta.copy()"
   ]
  },
  {
   "cell_type": "markdown",
   "id": "a2eec024",
   "metadata": {},
   "source": [
    "Get the metadata information of a raster file"
   ]
  },
  {
   "cell_type": "code",
   "execution_count": 5,
   "id": "d1daf193",
   "metadata": {},
   "outputs": [],
   "source": [
    "shapefile = gpd.read_file(r'C:\\Users\\31619\\Desktop\\CLCD_v01_2006_albert_province\\QINGDAOCITY.shp')\n",
    "print(shapefile.crs)"
   ]
  },
  {
   "cell_type": "markdown",
   "id": "8605fa6e",
   "metadata": {},
   "source": [
    "Open the shapefile,Check the coordinate system"
   ]
  },
  {
   "cell_type": "code",
   "execution_count": 6,
   "id": "ffcf7ead",
   "metadata": {},
   "outputs": [],
   "source": [
    "shapefile.head()"
   ]
  },
  {
   "cell_type": "markdown",
   "id": "9a715723",
   "metadata": {},
   "source": [
    "check the content of shapefile"
   ]
  },
  {
   "cell_type": "code",
   "execution_count": 7,
   "id": "946086f0",
   "metadata": {},
   "outputs": [],
   "source": [
    "shapefile_geojson = shapefile.__geo_interface__"
   ]
  },
  {
   "cell_type": "markdown",
   "id": "3c64feaf",
   "metadata": {},
   "source": [
    "Convert Shapefile to GeoJSON format"
   ]
  },
  {
   "cell_type": "markdown",
   "id": "3f75e460",
   "metadata": {},
   "source": [
    "mask = geometry_mask(shapefile.geometry, out_shape=raster_data.shape, transform=src.transform, invert=True)\n",
    "if not mask.any():\n",
    "    raise ValueError('Input shapes do not overlap raster.')"
   ]
  },
  {
   "cell_type": "markdown",
   "id": "6c2add2b",
   "metadata": {},
   "source": [
    "Check if the geometry in the shapefile has overlapping parts with the raster data. If there are no overlapping parts, a 'ValueError' will be raised."
   ]
  },
  {
   "cell_type": "code",
   "execution_count": 9,
   "id": "885a37a3",
   "metadata": {},
   "outputs": [],
   "source": [
    "masked_data, masked_transform = mask(dataset=src, shapes=[shapefile_geojson], crop=True)"
   ]
  },
  {
   "cell_type": "markdown",
   "id": "36a044d0",
   "metadata": {},
   "source": [
    "Masking operations using raster data and geometric information from Shapefile"
   ]
  },
  {
   "cell_type": "code",
   "execution_count": 10,
   "id": "a6d985cc",
   "metadata": {},
   "outputs": [],
   "source": [
    "meta.update({'transform': masked_transform, 'height': masked_data.shape[1], 'width': masked_data.shape[2]})"
   ]
  },
  {
   "cell_type": "markdown",
   "id": "1b4fd085",
   "metadata": {},
   "source": [
    "Update metadata information for raster data"
   ]
  },
  {
   "cell_type": "code",
   "execution_count": 11,
   "id": "6788701a",
   "metadata": {},
   "outputs": [],
   "source": [
    "with rasterio.open(r'C:\\Users\\31619\\Desktop\\CLCD_v01_2006_albert_province/output_raster.tif', 'w', **meta) as dst:\n",
    "    dst.write(masked_data)"
   ]
  },
  {
   "cell_type": "markdown",
   "id": "41b45399",
   "metadata": {},
   "source": [
    "Save the masked raster data to a new file"
   ]
  },
  {
   "cell_type": "code",
   "execution_count": 13,
   "id": "e3262d22",
   "metadata": {},
   "outputs": [],
   "source": [
    "print(\"Masked raster file saved successfully.\")"
   ]
  }
 ],
 "metadata": {
  "kernelspec": {
   "display_name": "Python 3 (ipykernel)",
   "language": "python",
   "name": "python3"
  },
  "language_info": {
   "codemirror_mode": {
    "name": "ipython",
    "version": 3
   },
   "file_extension": ".py",
   "mimetype": "text/x-python",
   "name": "python",
   "nbconvert_exporter": "python",
   "pygments_lexer": "ipython3",
   "version": "3.8.0"
  }
 },
 "nbformat": 4,
 "nbformat_minor": 5
}
